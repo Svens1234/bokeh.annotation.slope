{
 "cells": [
  {
   "cell_type": "code",
   "execution_count": 1,
   "id": "a6fa85a8",
   "metadata": {},
   "outputs": [],
   "source": [
    "import numpy as np\n",
    "from bokeh.models import Slope\n",
    "from bokeh.plotting import figure, output_file, show"
   ]
  },
  {
   "cell_type": "code",
   "execution_count": 2,
   "id": "ee6fb619",
   "metadata": {},
   "outputs": [],
   "source": [
    "output_file(\"slope.html\", title=\"slope.py example\")\n",
    "\n",
    "# linear equation parameters\n",
    "gradient = 2\n",
    "y_intercept = 10\n",
    "\n",
    "# create random data\n",
    "xpts = np.arange(0, 20)\n",
    "ypts = gradient * xpts + y_intercept + np.random.normal(0, 4, 20)\n",
    "\n",
    "p = figure(width=450, height=450, y_range=(0, 1.1 * max(ypts)))\n",
    "\n",
    "p.circle(xpts, ypts, size=5, color=\"skyblue\")\n",
    "\n",
    "slope = Slope(gradient=gradient, y_intercept=y_intercept,\n",
    "              line_color='orange', line_dash='dashed', line_width=3.5)\n",
    "\n",
    "p.add_layout(slope)\n",
    "\n",
    "p.yaxis.axis_label = 'y'\n",
    "p.xaxis.axis_label = 'x'\n",
    "\n",
    "show(p)"
   ]
  },
  {
   "cell_type": "code",
   "execution_count": null,
   "id": "3f24c748",
   "metadata": {},
   "outputs": [],
   "source": []
  }
 ],
 "metadata": {
  "kernelspec": {
   "display_name": "Python 3 (ipykernel)",
   "language": "python",
   "name": "python3"
  },
  "language_info": {
   "codemirror_mode": {
    "name": "ipython",
    "version": 3
   },
   "file_extension": ".py",
   "mimetype": "text/x-python",
   "name": "python",
   "nbconvert_exporter": "python",
   "pygments_lexer": "ipython3",
   "version": "3.10.5"
  }
 },
 "nbformat": 4,
 "nbformat_minor": 5
}
